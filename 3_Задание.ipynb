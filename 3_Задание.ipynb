{
  "nbformat": 4,
  "nbformat_minor": 0,
  "metadata": {
    "colab": {
      "name": "3. Задание",
      "version": "0.3.2",
      "provenance": [],
      "collapsed_sections": [],
      "include_colab_link": true
    },
    "kernelspec": {
      "name": "python3",
      "display_name": "Python 3"
    }
  },
  "cells": [
    {
      "cell_type": "markdown",
      "metadata": {
        "id": "view-in-github",
        "colab_type": "text"
      },
      "source": [
        "<a href=\"https://colab.research.google.com/github/Grokholskaya/Neural_Networks_and_CV/blob/master/3_%D0%97%D0%B0%D0%B4%D0%B0%D0%BD%D0%B8%D0%B5.ipynb\" target=\"_parent\"><img src=\"https://colab.research.google.com/assets/colab-badge.svg\" alt=\"Open In Colab\"/></a>"
      ]
    },
    {
      "cell_type": "code",
      "metadata": {
        "id": "J2mcyRb4vgsq",
        "colab_type": "code",
        "colab": {}
      },
      "source": [
        "import torch\n",
        "import matplotlib.pyplot as plt\n",
        "import matplotlib\n",
        "matplotlib.rcParams['figure.figsize'] = (13.0, 5.0)"
      ],
      "execution_count": 0,
      "outputs": []
    },
    {
      "cell_type": "code",
      "metadata": {
        "id": "yohv1W68vHpy",
        "colab_type": "code",
        "outputId": "926ac306-2fd7-4804-e19b-40fcab85fe0c",
        "colab": {
          "base_uri": "https://localhost:8080/",
          "height": 371
        }
      },
      "source": [
        "#import torch\n",
        "\n",
        "class RegressionNet(torch.nn.Module):\n",
        "    def __init__(self, n_hidden_neurons):\n",
        "      super(RegressionNet, self).__init__()\n",
        "      self.fc1 = torch.nn.Linear(1, n_hidden_neurons)\n",
        "      self.act1 = torch.nn.Sigmoid()\n",
        "      self.fc2 = torch.nn.Linear(n_hidden_neurons, n_hidden_neurons)\n",
        "      self.act2 = torch.nn.Sigmoid()\n",
        "      self.fc3 = torch.nn.Linear(n_hidden_neurons,1)\n",
        "    \n",
        "    def forward(self, x):\n",
        "      x = self.fc1(x)\n",
        "      x = self.act1(x)\n",
        "      x = self.fc2(x)\n",
        "      x = self.act2(x)\n",
        "      x = self.fc3(x)\n",
        "      return x\n",
        "    \n",
        "###количество скрытых нейронов\n",
        "net = RegressionNet(3)\n",
        "\n",
        "def target_function(x):\n",
        "    return 2**x * torch.sin(2**-x)\n",
        "\n",
        "# ------Dataset preparation start--------:\n",
        "x_train =  torch.linspace(-10, 5, 100)\n",
        "y_train = target_function(x_train)\n",
        "noise = torch.randn(y_train.shape) / 20.\n",
        "y_train = y_train + noise\n",
        "x_train.unsqueeze_(1)\n",
        "y_train.unsqueeze_(1)\n",
        "\n",
        "x_validation = torch.linspace(-10, 5, 100)\n",
        "y_validation = target_function(x_validation)\n",
        "x_validation.unsqueeze_(1)\n",
        "y_validation.unsqueeze_(1)\n",
        "# ------Dataset preparation end--------:\n",
        "\n",
        "def metric(pred, target):\n",
        "    return (pred - target).abs().mean()\n",
        "\n",
        "###choose your learning rate#\n",
        "optimizer = torch.optim.Adam(net.parameters(), lr=0.01)\n",
        "\n",
        "def loss(pred, target):\n",
        "  abses = torch.abs(pred-target)\n",
        "  return abses.mean()\n",
        "\n",
        "def predict(net, x, y):\n",
        "    y_pred = net.forward(x)\n",
        "\n",
        "    plt.plot(x.numpy(), y.numpy(), 'o', label='Groud truth')\n",
        "    plt.plot(x.numpy(), y_pred.data.numpy(), 'o', c='r', label='Prediction');\n",
        "    plt.legend(loc='upper left')\n",
        "    plt.xlabel('$x$')\n",
        "    plt.ylabel('$y$')\n",
        "\n",
        "###choose epoches number#\n",
        "for epoch_index in range(1000):\n",
        "    optimizer.zero_grad()\n",
        "\n",
        "    y_pred = net.forward(x_train)\n",
        "    loss_value = loss(y_pred, y_train)\n",
        "    loss_value.backward()\n",
        "    optimizer.step()\n",
        "\n",
        "metric = metric(net.forward(x_validation), y_validation).item()\n",
        "print(metric)\n",
        "print(metric<0.03)\n",
        "predict(net, x_validation, y_validation)"
      ],
      "execution_count": 34,
      "outputs": [
        {
          "output_type": "stream",
          "text": [
            "0.027505595237016678\n",
            "True\n"
          ],
          "name": "stdout"
        },
        {
          "output_type": "display_data",
          "data": {
            "image/png": "[encoded data removed]",
            "text/plain": [
              "<Figure size 936x360 with 1 Axes>"
            ]
          },
          "metadata": {
            "tags": []
          }
        }
      ]
    }
  ]
}